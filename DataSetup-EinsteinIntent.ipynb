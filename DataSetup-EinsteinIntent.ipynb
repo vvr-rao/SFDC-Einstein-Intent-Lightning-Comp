{
 "cells": [
  {
   "cell_type": "markdown",
   "metadata": {},
   "source": [
    "Data Setup for Einstein Intent API.\n",
    "\n",
    "Data source is from following location: http://help.sentiment140.com/for-students\n",
    "This provides a .CSV with sentiment data based on 160k Twitter posts.\n",
    "\n",
    "The data is a CSV with emoticons removed. Data file format has 6 fields:\n",
    "\n",
    "0 - the polarity of the tweet (0 = negative, 2 = neutral, 4 = positive)\n",
    "1 - the id of the tweet (2087)\n",
    "2 - the date of the tweet (Sat May 16 23:58:44 UTC 2009)\n",
    "3 - the query (lyx). If there is no query, then this value is NO_QUERY.\n",
    "4 - the user that tweeted (robotickilldozr)\n",
    "5 - the text of the tweet (Lyx is cool)\n",
    "\n",
    "Desired format for Einstein is .CSV with no headers and format of - \"content\", intent\n",
    "\n"
   ]
  },
  {
   "cell_type": "code",
   "execution_count": 90,
   "metadata": {},
   "outputs": [
    {
     "name": "stdout",
     "output_type": "stream",
     "text": [
      "[nltk_data] Downloading package punkt to /home/ec2-user/nltk_data...\n",
      "[nltk_data]   Package punkt is already up-to-date!\n"
     ]
    },
    {
     "data": {
      "text/plain": [
       "True"
      ]
     },
     "execution_count": 90,
     "metadata": {},
     "output_type": "execute_result"
    }
   ],
   "source": [
    "import numpy as np\n",
    "import pandas as pd\n",
    "import matplotlib.pyplot as plt\n",
    "from sklearn.utils import shuffle\n",
    "import re\n",
    "import csv\n",
    "\n",
    "import nltk\n",
    "\n",
    "nltk.download('punkt')"
   ]
  },
  {
   "cell_type": "code",
   "execution_count": 91,
   "metadata": {},
   "outputs": [
    {
     "name": "stdout",
     "output_type": "stream",
     "text": [
      "Welcome to the   where the points don't matter. Thats Right!! the Points are just number to look at till someone get's  Knocked out.\n"
     ]
    }
   ],
   "source": [
    "Tweet = \"Welcome to the @UFC @drewCarrey where the points don't matter. Thats Right!! the Points are just number to look at till someone get's  Knocked out.\"\n",
    "Tweet = re.sub('@[^\\s]+','',Tweet)\n",
    "print (Tweet)"
   ]
  },
  {
   "cell_type": "code",
   "execution_count": 92,
   "metadata": {},
   "outputs": [
    {
     "name": "stdout",
     "output_type": "stream",
     "text": [
      "['welcome', 'to', 'the', 'where', 'the', 'points', 'do', \"n't\", 'matter', '.', 'thats', 'right', '!', '!', 'the', 'points', 'are', 'just', 'number', 'to', 'look', 'at', 'till', 'someone', 'get', \"'s\", 'knocked', 'out', '.']\n"
     ]
    }
   ],
   "source": [
    "#print (nltk.word_tokenize(Tweet))\n",
    "print (nltk.word_tokenize(Tweet.lower()))"
   ]
  },
  {
   "cell_type": "code",
   "execution_count": 93,
   "metadata": {},
   "outputs": [],
   "source": [
    "df = pd.read_csv('Raw_data.csv', delimiter=',',encoding=\"latin1\", header=None, usecols=[0,5]) \n",
    "#df = pd.read_csv('Raw_data.csv', delimiter=',',nrows = 1580000,encoding=\"latin1\", header=None, usecols=[0,5]) \n",
    "#df = pd.read_csv('Raw_data.csv', delimiter=',', nrows = 100, header=None, usecols=[5,0]) \n",
    "#df = pd.read_csv('tester.csv', delimiter=',', header=None) \n",
    "# only need column 1(sentiment) and 6(Tweet)\n",
    "# the Tweet needs to be in first column and Sentiment in second"
   ]
  },
  {
   "cell_type": "code",
   "execution_count": 94,
   "metadata": {},
   "outputs": [
    {
     "name": "stdout",
     "output_type": "stream",
     "text": [
      "<class 'pandas.core.frame.DataFrame'>\n",
      "RangeIndex: 1600000 entries, 0 to 1599999\n",
      "Data columns (total 2 columns):\n",
      "0    1600000 non-null int64\n",
      "5    1600000 non-null object\n",
      "dtypes: int64(1), object(1)\n",
      "memory usage: 24.4+ MB\n"
     ]
    }
   ],
   "source": [
    "df.info()"
   ]
  },
  {
   "cell_type": "code",
   "execution_count": 95,
   "metadata": {},
   "outputs": [
    {
     "data": {
      "text/html": [
       "<div>\n",
       "<style scoped>\n",
       "    .dataframe tbody tr th:only-of-type {\n",
       "        vertical-align: middle;\n",
       "    }\n",
       "\n",
       "    .dataframe tbody tr th {\n",
       "        vertical-align: top;\n",
       "    }\n",
       "\n",
       "    .dataframe thead th {\n",
       "        text-align: right;\n",
       "    }\n",
       "</style>\n",
       "<table border=\"1\" class=\"dataframe\">\n",
       "  <thead>\n",
       "    <tr style=\"text-align: right;\">\n",
       "      <th></th>\n",
       "      <th>0</th>\n",
       "      <th>5</th>\n",
       "    </tr>\n",
       "  </thead>\n",
       "  <tbody>\n",
       "    <tr>\n",
       "      <th>0</th>\n",
       "      <td>0</td>\n",
       "      <td>@switchfoot http://twitpic.com/2y1zl - Awww, t...</td>\n",
       "    </tr>\n",
       "    <tr>\n",
       "      <th>1</th>\n",
       "      <td>0</td>\n",
       "      <td>is upset that he can't update his Facebook by ...</td>\n",
       "    </tr>\n",
       "    <tr>\n",
       "      <th>2</th>\n",
       "      <td>0</td>\n",
       "      <td>@Kenichan I dived many times for the ball. Man...</td>\n",
       "    </tr>\n",
       "    <tr>\n",
       "      <th>3</th>\n",
       "      <td>0</td>\n",
       "      <td>my whole body feels itchy and like its on fire</td>\n",
       "    </tr>\n",
       "    <tr>\n",
       "      <th>4</th>\n",
       "      <td>0</td>\n",
       "      <td>@nationwideclass no, it's not behaving at all....</td>\n",
       "    </tr>\n",
       "  </tbody>\n",
       "</table>\n",
       "</div>"
      ],
      "text/plain": [
       "   0                                                  5\n",
       "0  0  @switchfoot http://twitpic.com/2y1zl - Awww, t...\n",
       "1  0  is upset that he can't update his Facebook by ...\n",
       "2  0  @Kenichan I dived many times for the ball. Man...\n",
       "3  0    my whole body feels itchy and like its on fire \n",
       "4  0  @nationwideclass no, it's not behaving at all...."
      ]
     },
     "execution_count": 95,
     "metadata": {},
     "output_type": "execute_result"
    }
   ],
   "source": [
    "df.head()"
   ]
  },
  {
   "cell_type": "code",
   "execution_count": 96,
   "metadata": {},
   "outputs": [
    {
     "data": {
      "text/html": [
       "<div>\n",
       "<style scoped>\n",
       "    .dataframe tbody tr th:only-of-type {\n",
       "        vertical-align: middle;\n",
       "    }\n",
       "\n",
       "    .dataframe tbody tr th {\n",
       "        vertical-align: top;\n",
       "    }\n",
       "\n",
       "    .dataframe thead th {\n",
       "        text-align: right;\n",
       "    }\n",
       "</style>\n",
       "<table border=\"1\" class=\"dataframe\">\n",
       "  <thead>\n",
       "    <tr style=\"text-align: right;\">\n",
       "      <th></th>\n",
       "      <th>0</th>\n",
       "      <th>5</th>\n",
       "    </tr>\n",
       "  </thead>\n",
       "  <tbody>\n",
       "    <tr>\n",
       "      <th>1599995</th>\n",
       "      <td>4</td>\n",
       "      <td>Just woke up. Having no school is the best fee...</td>\n",
       "    </tr>\n",
       "    <tr>\n",
       "      <th>1599996</th>\n",
       "      <td>4</td>\n",
       "      <td>TheWDB.com - Very cool to hear old Walt interv...</td>\n",
       "    </tr>\n",
       "    <tr>\n",
       "      <th>1599997</th>\n",
       "      <td>4</td>\n",
       "      <td>Are you ready for your MoJo Makeover? Ask me f...</td>\n",
       "    </tr>\n",
       "    <tr>\n",
       "      <th>1599998</th>\n",
       "      <td>4</td>\n",
       "      <td>Happy 38th Birthday to my boo of alll time!!! ...</td>\n",
       "    </tr>\n",
       "    <tr>\n",
       "      <th>1599999</th>\n",
       "      <td>4</td>\n",
       "      <td>happy #charitytuesday @theNSPCC @SparksCharity...</td>\n",
       "    </tr>\n",
       "  </tbody>\n",
       "</table>\n",
       "</div>"
      ],
      "text/plain": [
       "         0                                                  5\n",
       "1599995  4  Just woke up. Having no school is the best fee...\n",
       "1599996  4  TheWDB.com - Very cool to hear old Walt interv...\n",
       "1599997  4  Are you ready for your MoJo Makeover? Ask me f...\n",
       "1599998  4  Happy 38th Birthday to my boo of alll time!!! ...\n",
       "1599999  4  happy #charitytuesday @theNSPCC @SparksCharity..."
      ]
     },
     "execution_count": 96,
     "metadata": {},
     "output_type": "execute_result"
    }
   ],
   "source": [
    "df.tail()"
   ]
  },
  {
   "cell_type": "code",
   "execution_count": 97,
   "metadata": {},
   "outputs": [
    {
     "data": {
      "text/plain": [
       "(1600000, 2)"
      ]
     },
     "execution_count": 97,
     "metadata": {},
     "output_type": "execute_result"
    }
   ],
   "source": [
    "df.shape"
   ]
  },
  {
   "cell_type": "code",
   "execution_count": 98,
   "metadata": {},
   "outputs": [],
   "source": [
    "df = df[[df.columns[1],df.columns[0]]]"
   ]
  },
  {
   "cell_type": "code",
   "execution_count": 99,
   "metadata": {},
   "outputs": [
    {
     "data": {
      "text/html": [
       "<div>\n",
       "<style scoped>\n",
       "    .dataframe tbody tr th:only-of-type {\n",
       "        vertical-align: middle;\n",
       "    }\n",
       "\n",
       "    .dataframe tbody tr th {\n",
       "        vertical-align: top;\n",
       "    }\n",
       "\n",
       "    .dataframe thead th {\n",
       "        text-align: right;\n",
       "    }\n",
       "</style>\n",
       "<table border=\"1\" class=\"dataframe\">\n",
       "  <thead>\n",
       "    <tr style=\"text-align: right;\">\n",
       "      <th></th>\n",
       "      <th>5</th>\n",
       "      <th>0</th>\n",
       "    </tr>\n",
       "  </thead>\n",
       "  <tbody>\n",
       "    <tr>\n",
       "      <th>1015309</th>\n",
       "      <td>okay.... so charlie and i waded thru the sea i...</td>\n",
       "      <td>4</td>\n",
       "    </tr>\n",
       "    <tr>\n",
       "      <th>433134</th>\n",
       "      <td>@Robynnn_b COLLAB WITH WTK!? HELLLLL NO.  That...</td>\n",
       "      <td>0</td>\n",
       "    </tr>\n",
       "    <tr>\n",
       "      <th>74103</th>\n",
       "      <td>OH CRAP!!! Its raining...I NEED BBQ</td>\n",
       "      <td>0</td>\n",
       "    </tr>\n",
       "    <tr>\n",
       "      <th>550941</th>\n",
       "      <td>HAS A REALLY BAD HEADACHE</td>\n",
       "      <td>0</td>\n",
       "    </tr>\n",
       "    <tr>\n",
       "      <th>656267</th>\n",
       "      <td>Going to hikari san's house. Yay i get to hang...</td>\n",
       "      <td>0</td>\n",
       "    </tr>\n",
       "    <tr>\n",
       "      <th>440019</th>\n",
       "      <td>my lips hurt as well now  good thing i got me ...</td>\n",
       "      <td>0</td>\n",
       "    </tr>\n",
       "    <tr>\n",
       "      <th>122278</th>\n",
       "      <td>please be nice when ditching shopping carts in...</td>\n",
       "      <td>0</td>\n",
       "    </tr>\n",
       "    <tr>\n",
       "      <th>241317</th>\n",
       "      <td>... my website goes on... http://www.cascada-m...</td>\n",
       "      <td>0</td>\n",
       "    </tr>\n",
       "    <tr>\n",
       "      <th>1155366</th>\n",
       "      <td>@LysaLove we just got home!</td>\n",
       "      <td>4</td>\n",
       "    </tr>\n",
       "    <tr>\n",
       "      <th>1344050</th>\n",
       "      <td>@yoadrian29 I know hon &amp;amp; i appreciate it!i...</td>\n",
       "      <td>4</td>\n",
       "    </tr>\n",
       "    <tr>\n",
       "      <th>842757</th>\n",
       "      <td>Except it wasn't a paper clip. It was a safety...</td>\n",
       "      <td>4</td>\n",
       "    </tr>\n",
       "    <tr>\n",
       "      <th>863810</th>\n",
       "      <td>@John_Oakes thanks it's not til next sat, but ...</td>\n",
       "      <td>4</td>\n",
       "    </tr>\n",
       "    <tr>\n",
       "      <th>479909</th>\n",
       "      <td>@michelle182 LOL they don't take themselves se...</td>\n",
       "      <td>0</td>\n",
       "    </tr>\n",
       "    <tr>\n",
       "      <th>132473</th>\n",
       "      <td>No more Terminator: The Sarah Connor Chronicle...</td>\n",
       "      <td>0</td>\n",
       "    </tr>\n",
       "    <tr>\n",
       "      <th>1474710</th>\n",
       "      <td>@GillanHoss it's because you haven't talked to...</td>\n",
       "      <td>4</td>\n",
       "    </tr>\n",
       "    <tr>\n",
       "      <th>994908</th>\n",
       "      <td>@CarysAnn haha yep good old summer, wonder if ...</td>\n",
       "      <td>4</td>\n",
       "    </tr>\n",
       "    <tr>\n",
       "      <th>1024523</th>\n",
       "      <td>@shellartistree wow. that is amazing! i really...</td>\n",
       "      <td>4</td>\n",
       "    </tr>\n",
       "    <tr>\n",
       "      <th>394342</th>\n",
       "      <td>@kelly_dinosaur NOOOOO BROCCOLI!!!!!!! REST IN...</td>\n",
       "      <td>0</td>\n",
       "    </tr>\n",
       "    <tr>\n",
       "      <th>1047527</th>\n",
       "      <td>Check out our Golden Lounge at KLIA http://bit...</td>\n",
       "      <td>4</td>\n",
       "    </tr>\n",
       "    <tr>\n",
       "      <th>547125</th>\n",
       "      <td>@eso4600 Then I have no idea :S. Hahaha I real...</td>\n",
       "      <td>0</td>\n",
       "    </tr>\n",
       "  </tbody>\n",
       "</table>\n",
       "</div>"
      ],
      "text/plain": [
       "                                                         5  0\n",
       "1015309  okay.... so charlie and i waded thru the sea i...  4\n",
       "433134   @Robynnn_b COLLAB WITH WTK!? HELLLLL NO.  That...  0\n",
       "74103                 OH CRAP!!! Its raining...I NEED BBQ   0\n",
       "550941                          HAS A REALLY BAD HEADACHE   0\n",
       "656267   Going to hikari san's house. Yay i get to hang...  0\n",
       "440019   my lips hurt as well now  good thing i got me ...  0\n",
       "122278   please be nice when ditching shopping carts in...  0\n",
       "241317   ... my website goes on... http://www.cascada-m...  0\n",
       "1155366                       @LysaLove we just got home!   4\n",
       "1344050  @yoadrian29 I know hon &amp; i appreciate it!i...  4\n",
       "842757   Except it wasn't a paper clip. It was a safety...  4\n",
       "863810   @John_Oakes thanks it's not til next sat, but ...  4\n",
       "479909   @michelle182 LOL they don't take themselves se...  0\n",
       "132473   No more Terminator: The Sarah Connor Chronicle...  0\n",
       "1474710  @GillanHoss it's because you haven't talked to...  4\n",
       "994908   @CarysAnn haha yep good old summer, wonder if ...  4\n",
       "1024523  @shellartistree wow. that is amazing! i really...  4\n",
       "394342   @kelly_dinosaur NOOOOO BROCCOLI!!!!!!! REST IN...  0\n",
       "1047527  Check out our Golden Lounge at KLIA http://bit...  4\n",
       "547125   @eso4600 Then I have no idea :S. Hahaha I real...  0"
      ]
     },
     "execution_count": 99,
     "metadata": {},
     "output_type": "execute_result"
    }
   ],
   "source": [
    "df = shuffle(df)\n",
    "df.head(20)"
   ]
  },
  {
   "cell_type": "code",
   "execution_count": 100,
   "metadata": {},
   "outputs": [
    {
     "name": "stdout",
     "output_type": "stream",
     "text": [
      "{0: 'Negative', 2: 'Neutral', 4: 'Positive'}\n",
      "Positive\n"
     ]
    }
   ],
   "source": [
    "# 0 = negative, 2 = neutral, 4 = positive. Issue with data set - only 0 and 4 are available\n",
    "index_to_label = {}\n",
    "index_to_label[0] = 'Negative'\n",
    "index_to_label[2] = 'Neutral'\n",
    "index_to_label[4] = 'Positive'\n",
    "print(index_to_label)\n",
    "print(index_to_label[4])"
   ]
  },
  {
   "cell_type": "code",
   "execution_count": 101,
   "metadata": {},
   "outputs": [
    {
     "name": "stdout",
     "output_type": "stream",
     "text": [
      "Positive\n"
     ]
    }
   ],
   "source": [
    "# set Labels appropriately\n",
    "def labelize(inp):\n",
    "    return (index_to_label[inp])\n",
    "\n",
    "print(labelize(4))"
   ]
  },
  {
   "cell_type": "code",
   "execution_count": 102,
   "metadata": {},
   "outputs": [
    {
     "name": "stdout",
     "output_type": "stream",
     "text": [
      " - money in hand, that's good. money in head, that's bad\n"
     ]
    }
   ],
   "source": [
    "# modify tweet. make lower case and take out twitter handle\n",
    "def tokenize(inpstr):\n",
    "    Tweetstr = inpstr\n",
    "    Tweetstr = re.sub('@[^\\s]+','',Tweetstr)\n",
    "    #Tweetstr = nltk.word_tokenize(Tweetstr.lower())\n",
    "    return(Tweetstr.lower())\n",
    "\n",
    "print(tokenize(\"@ConnorMcGregor - money in hand, that's Good. Money in Head, that's bad\"))"
   ]
  },
  {
   "cell_type": "code",
   "execution_count": 103,
   "metadata": {},
   "outputs": [],
   "source": [
    "df[df.columns[0]] = df[df.columns[0]].apply(tokenize) #standardizes first column to remove characters and words I don't want\n",
    "df[df.columns[1]] = df[df.columns[1]].apply(labelize)  #standardizes labels in second column"
   ]
  },
  {
   "cell_type": "code",
   "execution_count": 104,
   "metadata": {},
   "outputs": [
    {
     "data": {
      "text/html": [
       "<div>\n",
       "<style scoped>\n",
       "    .dataframe tbody tr th:only-of-type {\n",
       "        vertical-align: middle;\n",
       "    }\n",
       "\n",
       "    .dataframe tbody tr th {\n",
       "        vertical-align: top;\n",
       "    }\n",
       "\n",
       "    .dataframe thead th {\n",
       "        text-align: right;\n",
       "    }\n",
       "</style>\n",
       "<table border=\"1\" class=\"dataframe\">\n",
       "  <thead>\n",
       "    <tr style=\"text-align: right;\">\n",
       "      <th></th>\n",
       "      <th>5</th>\n",
       "      <th>0</th>\n",
       "    </tr>\n",
       "  </thead>\n",
       "  <tbody>\n",
       "    <tr>\n",
       "      <th>1015309</th>\n",
       "      <td>okay.... so charlie and i waded thru the sea i...</td>\n",
       "      <td>Positive</td>\n",
       "    </tr>\n",
       "    <tr>\n",
       "      <th>433134</th>\n",
       "      <td>collab with wtk!? helllll no.  that'd be like...</td>\n",
       "      <td>Negative</td>\n",
       "    </tr>\n",
       "    <tr>\n",
       "      <th>74103</th>\n",
       "      <td>oh crap!!! its raining...i need bbq</td>\n",
       "      <td>Negative</td>\n",
       "    </tr>\n",
       "    <tr>\n",
       "      <th>550941</th>\n",
       "      <td>has a really bad headache</td>\n",
       "      <td>Negative</td>\n",
       "    </tr>\n",
       "    <tr>\n",
       "      <th>656267</th>\n",
       "      <td>going to hikari san's house. yay i get to hang...</td>\n",
       "      <td>Negative</td>\n",
       "    </tr>\n",
       "    <tr>\n",
       "      <th>440019</th>\n",
       "      <td>my lips hurt as well now  good thing i got me ...</td>\n",
       "      <td>Negative</td>\n",
       "    </tr>\n",
       "    <tr>\n",
       "      <th>122278</th>\n",
       "      <td>please be nice when ditching shopping carts in...</td>\n",
       "      <td>Negative</td>\n",
       "    </tr>\n",
       "    <tr>\n",
       "      <th>241317</th>\n",
       "      <td>... my website goes on... http://www.cascada-m...</td>\n",
       "      <td>Negative</td>\n",
       "    </tr>\n",
       "    <tr>\n",
       "      <th>1155366</th>\n",
       "      <td>we just got home!</td>\n",
       "      <td>Positive</td>\n",
       "    </tr>\n",
       "    <tr>\n",
       "      <th>1344050</th>\n",
       "      <td>i know hon &amp;amp; i appreciate it!i'll be doin...</td>\n",
       "      <td>Positive</td>\n",
       "    </tr>\n",
       "    <tr>\n",
       "      <th>842757</th>\n",
       "      <td>except it wasn't a paper clip. it was a safety...</td>\n",
       "      <td>Positive</td>\n",
       "    </tr>\n",
       "    <tr>\n",
       "      <th>863810</th>\n",
       "      <td>thanks it's not til next sat, but good lookin...</td>\n",
       "      <td>Positive</td>\n",
       "    </tr>\n",
       "    <tr>\n",
       "      <th>479909</th>\n",
       "      <td>lol they don't take themselves seriously, not...</td>\n",
       "      <td>Negative</td>\n",
       "    </tr>\n",
       "    <tr>\n",
       "      <th>132473</th>\n",
       "      <td>no more terminator: the sarah connor chronicle...</td>\n",
       "      <td>Negative</td>\n",
       "    </tr>\n",
       "    <tr>\n",
       "      <th>1474710</th>\n",
       "      <td>it's because you haven't talked to me!</td>\n",
       "      <td>Positive</td>\n",
       "    </tr>\n",
       "    <tr>\n",
       "      <th>994908</th>\n",
       "      <td>haha yep good old summer, wonder if we will h...</td>\n",
       "      <td>Positive</td>\n",
       "    </tr>\n",
       "    <tr>\n",
       "      <th>1024523</th>\n",
       "      <td>wow. that is amazing! i really like that. i h...</td>\n",
       "      <td>Positive</td>\n",
       "    </tr>\n",
       "    <tr>\n",
       "      <th>394342</th>\n",
       "      <td>nooooo broccoli!!!!!!! rest in peace</td>\n",
       "      <td>Negative</td>\n",
       "    </tr>\n",
       "    <tr>\n",
       "      <th>1047527</th>\n",
       "      <td>check out our golden lounge at klia http://bit...</td>\n",
       "      <td>Positive</td>\n",
       "    </tr>\n",
       "    <tr>\n",
       "      <th>547125</th>\n",
       "      <td>then i have no idea :s. hahaha i really don't</td>\n",
       "      <td>Negative</td>\n",
       "    </tr>\n",
       "  </tbody>\n",
       "</table>\n",
       "</div>"
      ],
      "text/plain": [
       "                                                         5         0\n",
       "1015309  okay.... so charlie and i waded thru the sea i...  Positive\n",
       "433134    collab with wtk!? helllll no.  that'd be like...  Negative\n",
       "74103                 oh crap!!! its raining...i need bbq   Negative\n",
       "550941                          has a really bad headache   Negative\n",
       "656267   going to hikari san's house. yay i get to hang...  Negative\n",
       "440019   my lips hurt as well now  good thing i got me ...  Negative\n",
       "122278   please be nice when ditching shopping carts in...  Negative\n",
       "241317   ... my website goes on... http://www.cascada-m...  Negative\n",
       "1155366                                 we just got home!   Positive\n",
       "1344050   i know hon &amp; i appreciate it!i'll be doin...  Positive\n",
       "842757   except it wasn't a paper clip. it was a safety...  Positive\n",
       "863810    thanks it's not til next sat, but good lookin...  Positive\n",
       "479909    lol they don't take themselves seriously, not...  Negative\n",
       "132473   no more terminator: the sarah connor chronicle...  Negative\n",
       "1474710            it's because you haven't talked to me!   Positive\n",
       "994908    haha yep good old summer, wonder if we will h...  Positive\n",
       "1024523   wow. that is amazing! i really like that. i h...  Positive\n",
       "394342               nooooo broccoli!!!!!!! rest in peace   Negative\n",
       "1047527  check out our golden lounge at klia http://bit...  Positive\n",
       "547125      then i have no idea :s. hahaha i really don't   Negative"
      ]
     },
     "execution_count": 104,
     "metadata": {},
     "output_type": "execute_result"
    }
   ],
   "source": [
    "df.head(20)"
   ]
  },
  {
   "cell_type": "markdown",
   "metadata": {},
   "source": [
    "CREATE THE TEST AND VALIDATION FILES"
   ]
  },
  {
   "cell_type": "code",
   "execution_count": 105,
   "metadata": {},
   "outputs": [
    {
     "data": {
      "text/plain": [
       "(1600000, 1520000, 80000)"
      ]
     },
     "execution_count": 105,
     "metadata": {},
     "output_type": "execute_result"
    }
   ],
   "source": [
    "# I will use 95% of my data to train the model and reserve 5% of the data for my own testing. \n",
    "# In this case, Validation is something I will do manually \n",
    "# (as opposed to something systematic - note: Einstein splits up data internally for Training and Validation for model tuning)\n",
    "rows = df.shape[0]\n",
    "train = int(.95 * rows)\n",
    "test = rows-train\n",
    "\n",
    "rows, train, test"
   ]
  },
  {
   "cell_type": "code",
   "execution_count": 106,
   "metadata": {},
   "outputs": [],
   "source": [
    "df.iloc[:train].to_csv('training_EinsteinSentiment.csv', sep = ',', header=False, index=False)\n",
    "df.iloc[train:].to_csv('test_EinsteinSentiment.csv', sep =',', header=False, index=False)"
   ]
  },
  {
   "cell_type": "code",
   "execution_count": null,
   "metadata": {},
   "outputs": [],
   "source": []
  }
 ],
 "metadata": {
  "kernelspec": {
   "display_name": "conda_python3",
   "language": "python",
   "name": "conda_python3"
  },
  "language_info": {
   "codemirror_mode": {
    "name": "ipython",
    "version": 3
   },
   "file_extension": ".py",
   "mimetype": "text/x-python",
   "name": "python",
   "nbconvert_exporter": "python",
   "pygments_lexer": "ipython3",
   "version": "3.6.5"
  }
 },
 "nbformat": 4,
 "nbformat_minor": 2
}
